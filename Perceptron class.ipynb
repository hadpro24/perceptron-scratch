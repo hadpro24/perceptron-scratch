{
 "cells": [
  {
   "cell_type": "code",
   "execution_count": 209,
   "metadata": {},
   "outputs": [],
   "source": [
    "import matplotlib.pyplot\n",
    "import numpy as np"
   ]
  },
  {
   "cell_type": "code",
   "execution_count": 212,
   "metadata": {},
   "outputs": [],
   "source": [
    "class Perceptron:\n",
    "    def __init__(self, n_features=3, weights=None, bias=0, \n",
    "                 epoch=100, alpha=0.1):\n",
    "        self.weights = np.zeros(n_features) if weights == None else weights\n",
    "        self.bias = bias\n",
    "        self.epoch = epoch\n",
    "        self.alpha = alpha\n",
    "        \n",
    "    #methods\n",
    "    def weighted_sum(self, X):\n",
    "        return np.dot(X, self.weights) + self.bias\n",
    "    \n",
    "    def activation(self, sum_):\n",
    "        return (sum_ >= 0).astype(int)\n",
    "    \n",
    "    def predict(self, X):\n",
    "        return self.activation(self.weighted_sum(X))\n",
    "    \n",
    "    def compute_error(self, X, y):\n",
    "        return  y-self.predict(X)\n",
    "    \n",
    "    def update_weights(self, error, X):\n",
    "        for xi, errori in zip(X, error):\n",
    "            self.weights += errori * xi * self.alpha\n",
    "            self.bias += errori * self.alpha\n",
    "            \n",
    "    def fit(self, X, y):\n",
    "        for i in range(self.epoch):\n",
    "            error = self.compute_error(X, y)\n",
    "            self.update_weights(error, X)\n",
    "            print(f'{i} error : {np.mean(error)}')\n",
    "    "
   ]
  },
  {
   "cell_type": "code",
   "execution_count": 213,
   "metadata": {},
   "outputs": [],
   "source": [
    "from sklearn.datasets import load_breast_cancer"
   ]
  },
  {
   "cell_type": "code",
   "execution_count": 220,
   "metadata": {},
   "outputs": [],
   "source": [
    "X, y = load_breast_cancer(return_X_y=True)"
   ]
  },
  {
   "cell_type": "code",
   "execution_count": 221,
   "metadata": {},
   "outputs": [],
   "source": [
    "X = (X-X.mean())/X.std()"
   ]
  },
  {
   "cell_type": "code",
   "execution_count": 222,
   "metadata": {},
   "outputs": [],
   "source": [
    "from sklearn.model_selection import train_test_split\n",
    "X_train, X_test, y_train, y_test = train_test_split(X, y, test_size=0.33)"
   ]
  },
  {
   "cell_type": "code",
   "execution_count": 223,
   "metadata": {},
   "outputs": [],
   "source": [
    "per = Perceptron(n_features=X.shape[1])"
   ]
  },
  {
   "cell_type": "code",
   "execution_count": 224,
   "metadata": {},
   "outputs": [
    {
     "name": "stdout",
     "output_type": "stream",
     "text": [
      "0 error : -0.3700787401574803\n",
      "1 error : 0.6299212598425197\n",
      "2 error : 0.6272965879265092\n",
      "3 error : -0.3700787401574803\n",
      "4 error : 0.6272965879265092\n",
      "5 error : -0.3700787401574803\n",
      "6 error : 0.6272965879265092\n",
      "7 error : -0.12073490813648294\n",
      "8 error : 0.24146981627296588\n",
      "9 error : -0.34120734908136485\n",
      "10 error : 0.6141732283464567\n",
      "11 error : -0.13385826771653545\n",
      "12 error : 0.13648293963254593\n",
      "13 error : -0.13123359580052493\n",
      "14 error : 0.13910761154855644\n",
      "15 error : -0.13123359580052493\n",
      "16 error : 0.13648293963254593\n",
      "17 error : -0.12860892388451445\n",
      "18 error : 0.13648293963254593\n",
      "19 error : -0.13123359580052493\n",
      "20 error : 0.13648293963254593\n",
      "21 error : -0.12860892388451445\n",
      "22 error : 0.13385826771653545\n",
      "23 error : -0.12860892388451445\n",
      "24 error : 0.13123359580052493\n",
      "25 error : -0.12860892388451445\n",
      "26 error : 0.13648293963254593\n",
      "27 error : -0.12860892388451445\n",
      "28 error : 0.13123359580052493\n",
      "29 error : -0.12860892388451445\n",
      "30 error : 0.13648293963254593\n",
      "31 error : -0.12860892388451445\n",
      "32 error : 0.13123359580052493\n",
      "33 error : -0.12860892388451445\n",
      "34 error : 0.13648293963254593\n",
      "35 error : -0.12860892388451445\n",
      "36 error : 0.12860892388451445\n",
      "37 error : -0.12335958005249344\n",
      "38 error : 0.12598425196850394\n",
      "39 error : -0.12335958005249344\n",
      "40 error : 0.12598425196850394\n",
      "41 error : -0.12335958005249344\n",
      "42 error : 0.12598425196850394\n",
      "43 error : -0.12335958005249344\n",
      "44 error : 0.12598425196850394\n",
      "45 error : -0.12335958005249344\n",
      "46 error : 0.12335958005249344\n",
      "47 error : -0.11548556430446194\n",
      "48 error : 0.11023622047244094\n",
      "49 error : -0.11548556430446194\n",
      "50 error : 0.12073490813648294\n",
      "51 error : -0.11548556430446194\n",
      "52 error : 0.09973753280839895\n",
      "53 error : -0.10498687664041995\n",
      "54 error : 0.11023622047244094\n",
      "55 error : -0.11548556430446194\n",
      "56 error : 0.12073490813648294\n",
      "57 error : -0.11548556430446194\n",
      "58 error : 0.10498687664041995\n",
      "59 error : -0.10761154855643044\n",
      "60 error : 0.09973753280839895\n",
      "61 error : -0.10236220472440945\n",
      "62 error : 0.09973753280839895\n",
      "63 error : -0.10498687664041995\n",
      "64 error : 0.09973753280839895\n",
      "65 error : -0.10236220472440945\n",
      "66 error : 0.09711286089238845\n",
      "67 error : -0.09973753280839895\n",
      "68 error : 0.09711286089238845\n",
      "69 error : -0.10236220472440945\n",
      "70 error : 0.09711286089238845\n",
      "71 error : -0.09973753280839895\n",
      "72 error : 0.09186351706036745\n",
      "73 error : -0.09973753280839895\n",
      "74 error : 0.09711286089238845\n",
      "75 error : -0.09973753280839895\n",
      "76 error : 0.09448818897637795\n",
      "77 error : -0.09973753280839895\n",
      "78 error : 0.09448818897637795\n",
      "79 error : -0.09973753280839895\n",
      "80 error : 0.09711286089238845\n",
      "81 error : -0.09973753280839895\n",
      "82 error : 0.09186351706036745\n",
      "83 error : -0.09973753280839895\n",
      "84 error : 0.09711286089238845\n",
      "85 error : -0.09973753280839895\n",
      "86 error : 0.09448818897637795\n",
      "87 error : -0.09973753280839895\n",
      "88 error : 0.09448818897637795\n",
      "89 error : -0.09973753280839895\n",
      "90 error : 0.09711286089238845\n",
      "91 error : -0.09973753280839895\n",
      "92 error : 0.09448818897637795\n",
      "93 error : -0.09973753280839895\n",
      "94 error : 0.09448818897637795\n",
      "95 error : -0.09711286089238845\n",
      "96 error : 0.09186351706036745\n",
      "97 error : -0.09711286089238845\n",
      "98 error : 0.09186351706036745\n",
      "99 error : -0.09711286089238845\n"
     ]
    }
   ],
   "source": [
    "per.fit(X_train, y_train)"
   ]
  },
  {
   "cell_type": "code",
   "execution_count": 225,
   "metadata": {},
   "outputs": [],
   "source": [
    "from sklearn.metrics import accuracy_score"
   ]
  },
  {
   "cell_type": "code",
   "execution_count": 226,
   "metadata": {},
   "outputs": [
    {
     "data": {
      "text/plain": [
       "0.898936170212766"
      ]
     },
     "execution_count": 226,
     "metadata": {},
     "output_type": "execute_result"
    }
   ],
   "source": [
    "accuracy_score(y_test, per.predict(X_test))"
   ]
  },
  {
   "cell_type": "code",
   "execution_count": 230,
   "metadata": {},
   "outputs": [],
   "source": [
    "from sklearn.linear_model import Perceptron as PTS\n",
    "per_sk = PTS(alpha=0.1, max_iter=100)"
   ]
  },
  {
   "cell_type": "code",
   "execution_count": 231,
   "metadata": {},
   "outputs": [
    {
     "data": {
      "text/plain": [
       "Perceptron(alpha=0.1, class_weight=None, eta0=1.0, fit_intercept=True,\n",
       "      max_iter=100, n_iter=None, n_jobs=1, penalty=None, random_state=0,\n",
       "      shuffle=True, tol=None, verbose=0, warm_start=False)"
      ]
     },
     "execution_count": 231,
     "metadata": {},
     "output_type": "execute_result"
    }
   ],
   "source": [
    "per_sk.fit(X_train, y_train)"
   ]
  },
  {
   "cell_type": "code",
   "execution_count": 232,
   "metadata": {},
   "outputs": [
    {
     "data": {
      "text/plain": [
       "0.8617021276595744"
      ]
     },
     "execution_count": 232,
     "metadata": {},
     "output_type": "execute_result"
    }
   ],
   "source": [
    "accuracy_score(y_test, per_sk.predict(X_test))"
   ]
  },
  {
   "cell_type": "code",
   "execution_count": null,
   "metadata": {},
   "outputs": [],
   "source": []
  }
 ],
 "metadata": {
  "kernelspec": {
   "display_name": "Python 3",
   "language": "python",
   "name": "python3"
  },
  "language_info": {
   "codemirror_mode": {
    "name": "ipython",
    "version": 3
   },
   "file_extension": ".py",
   "mimetype": "text/x-python",
   "name": "python",
   "nbconvert_exporter": "python",
   "pygments_lexer": "ipython3",
   "version": "3.7.0"
  }
 },
 "nbformat": 4,
 "nbformat_minor": 2
}
